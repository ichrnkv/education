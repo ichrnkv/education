{
 "cells": [
  {
   "cell_type": "markdown",
   "metadata": {},
   "source": [
    "### Brute force"
   ]
  },
  {
   "cell_type": "code",
   "execution_count": 22,
   "metadata": {},
   "outputs": [],
   "source": [
    "# является ли число простым\n",
    "\n",
    "def is_simple(x):\n",
    "    \"\"\"\n",
    "    Is x simple or not\n",
    "    :param x: int\n",
    "    \"\"\"\n",
    "    assert x>0\n",
    "    divisor = 2\n",
    "    while divisor<x:\n",
    "        if  x%divisor == 0:\n",
    "            return False\n",
    "        divisor += 1\n",
    "    return True"
   ]
  },
  {
   "cell_type": "code",
   "execution_count": 24,
   "metadata": {},
   "outputs": [
    {
     "data": {
      "text/plain": [
       "False"
      ]
     },
     "execution_count": 24,
     "metadata": {},
     "output_type": "execute_result"
    }
   ],
   "source": [
    "is_simple(33)"
   ]
  },
  {
   "cell_type": "code",
   "execution_count": 19,
   "metadata": {},
   "outputs": [],
   "source": [
    "# разложение числа на множители\n",
    "\n",
    "def factorize_number(x):\n",
    "    \"\"\"\n",
    "    Decomposes a number into multipliers\n",
    "    :param x: int\n",
    "    \"\"\"\n",
    "    assert x>0\n",
    "    multipliers = []\n",
    "    divisor = 2\n",
    "    while x > 1:\n",
    "        if x%divisor == 0:\n",
    "            multipliers.append(divisor)\n",
    "            x /= divisor \n",
    "        else:\n",
    "            divisor += 1\n",
    "    return multipliers"
   ]
  },
  {
   "cell_type": "code",
   "execution_count": 27,
   "metadata": {},
   "outputs": [
    {
     "data": {
      "text/plain": [
       "[2, 3, 3, 521]"
      ]
     },
     "execution_count": 27,
     "metadata": {},
     "output_type": "execute_result"
    }
   ],
   "source": [
    "factorize_number(9378)"
   ]
  },
  {
   "cell_type": "code",
   "execution_count": 33,
   "metadata": {},
   "outputs": [],
   "source": [
    "# поиск элемента в массиве\n",
    "\n",
    "def array_search(a, x):\n",
    "    \"\"\"\n",
    "    Search x in array\n",
    "    :param a: array\n",
    "    :param x: int\n",
    "    :return : first x index if in a or -1\n",
    "    \"\"\"\n",
    "    n = len(a)\n",
    "    assert n>0\n",
    "    \n",
    "    for i in range(n):\n",
    "        if a[i] == x:\n",
    "            return i\n",
    "    return -1"
   ]
  },
  {
   "cell_type": "code",
   "execution_count": 34,
   "metadata": {},
   "outputs": [
    {
     "data": {
      "text/plain": [
       "4"
      ]
     },
     "execution_count": 34,
     "metadata": {},
     "output_type": "execute_result"
    }
   ],
   "source": [
    "array_search([1, 2, 3, 4, 5], 5)"
   ]
  },
  {
   "cell_type": "code",
   "execution_count": 40,
   "metadata": {},
   "outputs": [],
   "source": [
    "# обращение массива\n",
    "\n",
    "def invert_array(a):\n",
    "    \"\"\"\n",
    "    Array handling\n",
    "    :param a: list\n",
    "    \"\"\"\n",
    "    n = len(a)\n",
    "    assert n>0\n",
    "    \n",
    "    for i in range(n//2):\n",
    "        a[i], a[n-1-i] = a[n-1-i], a[i]"
   ]
  },
  {
   "cell_type": "code",
   "execution_count": 41,
   "metadata": {},
   "outputs": [
    {
     "name": "stdout",
     "output_type": "stream",
     "text": [
      "[5, 4, 3, 2, 1]\n"
     ]
    }
   ],
   "source": [
    "a = [1, 2, 3, 4, 5]\n",
    "invert_array(a)\n",
    "\n",
    "print(a)"
   ]
  },
  {
   "cell_type": "code",
   "execution_count": 72,
   "metadata": {},
   "outputs": [],
   "source": [
    "# циклический сдвиг массива\n",
    "\n",
    "def cyclic_shift(a, kind='left'):\n",
    "    \"\"\"\n",
    "    Cyclic shift of the array\n",
    "    :param a: list\n",
    "    :param kind: left or right, str\n",
    "    \"\"\"\n",
    "    n = len(a)\n",
    "    assert n > 0 \n",
    "    \n",
    "    if kind == 'left':\n",
    "        tmp = a[0]\n",
    "        for i in range(n-1):\n",
    "            a[i] = a[i+1]\n",
    "        a[n-1] = tmp\n",
    "    if kind == 'right':\n",
    "        tmp = a[n-1]\n",
    "        for i in range(n-2, -1, -1):\n",
    "            a[i] = a[i-1]\n",
    "        a[0] = tmp\n",
    "    else:\n",
    "        raise Error('Unknown kind!')"
   ]
  },
  {
   "cell_type": "code",
   "execution_count": 73,
   "metadata": {},
   "outputs": [
    {
     "name": "stdout",
     "output_type": "stream",
     "text": [
      "[5, 0, 1, 2, 3, 5]\n"
     ]
    }
   ],
   "source": [
    "a = [0, 1, 2, 3, 4, 5]\n",
    "cyclic_shift(a, kind='right')\n",
    "\n",
    "print(a)"
   ]
  },
  {
   "cell_type": "code",
   "execution_count": 52,
   "metadata": {},
   "outputs": [],
   "source": [
    "# решето Эратосфена\n",
    "\n",
    "def Eratosthenes_sieve(n):\n",
    "    \"\"\"\n",
    "    Sieve of Eratosthenes\n",
    "    :param n: int\n",
    "    \"\"\"\n",
    "    assert n>2\n",
    "    \n",
    "    a = [True]*n\n",
    "    a[0] = a[1] = False\n",
    "    \n",
    "    for i in range(2, n):\n",
    "        if a[i]:\n",
    "            for k in range(2*i, n, i):\n",
    "                a[k] = False\n",
    "    \n",
    "    result = []\n",
    "    for k in range(n):\n",
    "        if a[k]:\n",
    "            result.append(k)\n",
    "    return result"
   ]
  },
  {
   "cell_type": "code",
   "execution_count": 53,
   "metadata": {},
   "outputs": [
    {
     "data": {
      "text/plain": [
       "[2, 3, 5, 7]"
      ]
     },
     "execution_count": 53,
     "metadata": {},
     "output_type": "execute_result"
    }
   ],
   "source": [
    "Eratosthenes_sieve(10)"
   ]
  },
  {
   "cell_type": "markdown",
   "metadata": {},
   "source": [
    "## Квадратичные сортировки O(n**2)"
   ]
  },
  {
   "cell_type": "code",
   "execution_count": 58,
   "metadata": {},
   "outputs": [],
   "source": [
    "# сортировка вставками\n",
    "\n",
    "def insert_sort(a):\n",
    "    \"\"\"\n",
    "    Ascending sort of list using insert sorting\n",
    "    :param a: list\n",
    "    \"\"\"\n",
    "    n = len(a)\n",
    "    assert n > 0\n",
    "    \n",
    "    for t in range(n):\n",
    "        k = t\n",
    "        while k>0 and a[k-1] > a[k]:\n",
    "            a[k-1], a[k] = a[k], a[k-1]\n",
    "            k -=1"
   ]
  },
  {
   "cell_type": "code",
   "execution_count": 59,
   "metadata": {},
   "outputs": [
    {
     "name": "stdout",
     "output_type": "stream",
     "text": [
      "[1, 2, 3, 4, 5]\n"
     ]
    }
   ],
   "source": [
    "a = [4, 3, 1, 2, 5]\n",
    "\n",
    "insert_sort(a)\n",
    "print(a)"
   ]
  },
  {
   "cell_type": "code",
   "execution_count": 62,
   "metadata": {},
   "outputs": [],
   "source": [
    "# сотрировка выбором\n",
    "\n",
    "def choice_sort(a):\n",
    "    \"\"\"\n",
    "    Ascending sort of list using choice sorting\n",
    "    :param a: list\n",
    "    \"\"\"\n",
    "    n = len(a)\n",
    "    assert n > 0\n",
    "    \n",
    "    for pos in range(n-1):\n",
    "        for k in range(pos+1, n):\n",
    "            if a[k] < a[pos]:\n",
    "                a[k], a[pos] = a[pos], a[k] "
   ]
  },
  {
   "cell_type": "code",
   "execution_count": 63,
   "metadata": {},
   "outputs": [
    {
     "name": "stdout",
     "output_type": "stream",
     "text": [
      "[1, 2, 3, 4, 5]\n"
     ]
    }
   ],
   "source": [
    "a = [4, 3, 1, 2, 5]\n",
    "\n",
    "choice_sort(a)\n",
    "print(a)"
   ]
  },
  {
   "cell_type": "code",
   "execution_count": 68,
   "metadata": {},
   "outputs": [],
   "source": [
    "# сотрировка пузырьком\n",
    "\n",
    "def bubble_sort(a):\n",
    "    \"\"\"\n",
    "    Ascending sort of list using bubble sorting\n",
    "    :param a: list\n",
    "    \"\"\"\n",
    "    n = len(a)\n",
    "    assert n > 0\n",
    "    \n",
    "    for p in range(1, n):\n",
    "        for k in range(n-p):\n",
    "            if a[k] > a[k+1]:\n",
    "                a[k], a[k+1] = a[k+1], a[k]"
   ]
  },
  {
   "cell_type": "code",
   "execution_count": 69,
   "metadata": {},
   "outputs": [
    {
     "name": "stdout",
     "output_type": "stream",
     "text": [
      "[1, 2, 3, 4, 5]\n"
     ]
    }
   ],
   "source": [
    "a = [4, 3, 1, 2, 5]\n",
    "\n",
    "bubble_sort(a)\n",
    "print(a)"
   ]
  },
  {
   "cell_type": "markdown",
   "metadata": {},
   "source": [
    "## Рекурсия"
   ]
  },
  {
   "cell_type": "code",
   "execution_count": 79,
   "metadata": {},
   "outputs": [],
   "source": [
    "def matryoshka(n):\n",
    "    \"\"\"\n",
    "    Prints matryoshka with n elements\n",
    "    :param n: number of elements, int\n",
    "    \"\"\"\n",
    "    if n == 1:\n",
    "        print('Matryoshechka')\n",
    "    else:\n",
    "        print(f'Matryoshka top n={n}')\n",
    "        matryoshka(n-1)\n",
    "        print(f'Matryoshka bottom n={n}')"
   ]
  },
  {
   "cell_type": "code",
   "execution_count": 80,
   "metadata": {},
   "outputs": [
    {
     "name": "stdout",
     "output_type": "stream",
     "text": [
      "Matryoshka top n=6\n",
      "Matryoshka top n=5\n",
      "Matryoshka top n=4\n",
      "Matryoshka top n=3\n",
      "Matryoshka top n=2\n",
      "Matryoshechka\n",
      "Matryoshka bottom n=2\n",
      "Matryoshka bottom n=3\n",
      "Matryoshka bottom n=4\n",
      "Matryoshka bottom n=5\n",
      "Matryoshka bottom n=6\n"
     ]
    }
   ],
   "source": [
    "matryoshka(6)"
   ]
  },
  {
   "cell_type": "code",
   "execution_count": 89,
   "metadata": {},
   "outputs": [],
   "source": [
    "def factorial(n):\n",
    "    \"\"\"\n",
    "    Factorial for non negative n\n",
    "    :param n: int\n",
    "    \"\"\"\n",
    "    assert n >= 0\n",
    "    \n",
    "    if n <= 1:\n",
    "        return 1\n",
    "    else:\n",
    "        return n * factorial(n-1)"
   ]
  },
  {
   "cell_type": "code",
   "execution_count": 180,
   "metadata": {},
   "outputs": [
    {
     "name": "stdout",
     "output_type": "stream",
     "text": [
      "CPU times: user 50 µs, sys: 0 ns, total: 50 µs\n",
      "Wall time: 53.9 µs\n"
     ]
    },
    {
     "data": {
      "text/plain": [
       "93326215443944152681699238856266700490715968264381621468592963895217599993229915608941463976156518286253697920827223758251185210916864000000000000000000000000"
      ]
     },
     "execution_count": 180,
     "metadata": {},
     "output_type": "execute_result"
    }
   ],
   "source": [
    "%%time\n",
    "\n",
    "factorial(100)"
   ]
  },
  {
   "cell_type": "code",
   "execution_count": 172,
   "metadata": {},
   "outputs": [],
   "source": [
    "cache = {}\n",
    "\n",
    "def factorial2(n):\n",
    "    \"\"\"\n",
    "    Factorial for non negative n\n",
    "    :param n: int\n",
    "    \"\"\"\n",
    "    \n",
    "    assert n >= 0\n",
    "    \n",
    "    if n not in cache:\n",
    "        if n <= 1:\n",
    "            cache[n] = 1\n",
    "        else:\n",
    "            cache[n] = n*factorial2(n-1)\n",
    "    return cache[n]\n",
    "        "
   ]
  },
  {
   "cell_type": "code",
   "execution_count": 186,
   "metadata": {},
   "outputs": [
    {
     "name": "stdout",
     "output_type": "stream",
     "text": [
      "CPU times: user 5 µs, sys: 1 µs, total: 6 µs\n",
      "Wall time: 29.6 µs\n"
     ]
    },
    {
     "data": {
      "text/plain": [
       "3628800"
      ]
     },
     "execution_count": 186,
     "metadata": {},
     "output_type": "execute_result"
    }
   ],
   "source": [
    "%%time\n",
    "\n",
    "factorial2(10)"
   ]
  },
  {
   "cell_type": "code",
   "execution_count": 195,
   "metadata": {},
   "outputs": [],
   "source": [
    "def factorial3(n):\n",
    "    \"\"\"\n",
    "    Factorial for non negative n\n",
    "    :param n: int\n",
    "    \"\"\"\n",
    "    assert n>=0\n",
    "    if n <= 1:\n",
    "        return 1\n",
    "    else:\n",
    "        f = 1\n",
    "        for i in range(1, n+1):\n",
    "            f *= i\n",
    "        return f"
   ]
  },
  {
   "cell_type": "code",
   "execution_count": 196,
   "metadata": {},
   "outputs": [
    {
     "name": "stdout",
     "output_type": "stream",
     "text": [
      "CPU times: user 6 µs, sys: 2 µs, total: 8 µs\n",
      "Wall time: 12.2 µs\n"
     ]
    },
    {
     "data": {
      "text/plain": [
       "3628800"
      ]
     },
     "execution_count": 196,
     "metadata": {},
     "output_type": "execute_result"
    }
   ],
   "source": [
    "%%time\n",
    "\n",
    "factorial3(10)"
   ]
  },
  {
   "cell_type": "code",
   "execution_count": 99,
   "metadata": {},
   "outputs": [],
   "source": [
    "def fibonacci(n):\n",
    "    \"\"\"\n",
    "    Fibonacci for non negative n\n",
    "    Slow version with recursion\n",
    "    :param n: int\n",
    "    \"\"\"\n",
    "    assert n>=0\n",
    "    if n <= 1:\n",
    "        return n\n",
    "    else:\n",
    "        return fibonacci(n-1) + fibonacci(n-2)"
   ]
  },
  {
   "cell_type": "code",
   "execution_count": 100,
   "metadata": {},
   "outputs": [
    {
     "name": "stdout",
     "output_type": "stream",
     "text": [
      "CPU times: user 101 ms, sys: 0 ns, total: 101 ms\n",
      "Wall time: 100 ms\n"
     ]
    },
    {
     "data": {
      "text/plain": [
       "196418"
      ]
     },
     "execution_count": 100,
     "metadata": {},
     "output_type": "execute_result"
    }
   ],
   "source": [
    "%%time\n",
    "fibonacci(27)"
   ]
  },
  {
   "cell_type": "code",
   "execution_count": 120,
   "metadata": {},
   "outputs": [],
   "source": [
    "def gcd1(a, b):\n",
    "    \"\"\"\n",
    "    Grand common divisor for a and b\n",
    "    :param a: int\n",
    "    :param b: int\n",
    "    \"\"\"\n",
    "    \n",
    "    assert a>=0 and b>=0\n",
    "    \n",
    "    if a==0 or b==0:\n",
    "        return max(a, b)\n",
    "    elif a == b:\n",
    "        return a\n",
    "    elif a > b:\n",
    "        return gcd1(a-b, b)\n",
    "    else: # a< b\n",
    "        return gcd1(a, b-a)"
   ]
  },
  {
   "cell_type": "code",
   "execution_count": 130,
   "metadata": {},
   "outputs": [
    {
     "name": "stdout",
     "output_type": "stream",
     "text": [
      "CPU times: user 1.94 ms, sys: 0 ns, total: 1.94 ms\n",
      "Wall time: 1.95 ms\n"
     ]
    },
    {
     "data": {
      "text/plain": [
       "3"
      ]
     },
     "execution_count": 130,
     "metadata": {},
     "output_type": "execute_result"
    }
   ],
   "source": [
    "%%time \n",
    "\n",
    "gcd1(24000, 9)"
   ]
  },
  {
   "cell_type": "code",
   "execution_count": 126,
   "metadata": {},
   "outputs": [],
   "source": [
    "def gcd2(a, b):\n",
    "    \"\"\"\n",
    "    Grand common divisor for a and b\n",
    "    :param a: int\n",
    "    :param b: int\n",
    "    \"\"\"\n",
    "    \n",
    "    assert a>=0 and b>=0\n",
    "    \n",
    "    if a==0 or b==0:\n",
    "        return max(a, b)\n",
    "    return gcd2(b%a, a)"
   ]
  },
  {
   "cell_type": "code",
   "execution_count": 131,
   "metadata": {},
   "outputs": [
    {
     "name": "stdout",
     "output_type": "stream",
     "text": [
      "CPU times: user 8 µs, sys: 0 ns, total: 8 µs\n",
      "Wall time: 11.4 µs\n"
     ]
    },
    {
     "data": {
      "text/plain": [
       "3"
      ]
     },
     "execution_count": 131,
     "metadata": {},
     "output_type": "execute_result"
    }
   ],
   "source": [
    "%%time\n",
    "\n",
    "gcd2(24000, 9)"
   ]
  },
  {
   "cell_type": "code",
   "execution_count": 134,
   "metadata": {},
   "outputs": [],
   "source": [
    "def pow(a, n):\n",
    "    \"\"\"\n",
    "    Raising the number f to the power of non negative n\n",
    "    \"\"\"\n",
    "    assert n>=0\n",
    "    \n",
    "    if n == 0:\n",
    "        return 1\n",
    "    else: # n>0\n",
    "        return pow(a, n-1)*a"
   ]
  },
  {
   "cell_type": "code",
   "execution_count": 154,
   "metadata": {},
   "outputs": [
    {
     "name": "stdout",
     "output_type": "stream",
     "text": [
      "CPU times: user 54 µs, sys: 0 ns, total: 54 µs\n",
      "Wall time: 57.9 µs\n"
     ]
    },
    {
     "data": {
      "text/plain": [
       "47302125196911364530320786067367967283188273495805361364321982449805107834854016851873587120379412957353854564442241628692952528458736435759330969031110165528576"
      ]
     },
     "execution_count": 154,
     "metadata": {},
     "output_type": "execute_result"
    }
   ],
   "source": [
    "%%time\n",
    "\n",
    "pow(18, 128)"
   ]
  },
  {
   "cell_type": "code",
   "execution_count": 148,
   "metadata": {},
   "outputs": [],
   "source": [
    "def pow2(a, n):\n",
    "    \"\"\"\n",
    "    Raising the number f to the power of non negative n\n",
    "    \"\"\"\n",
    "    assert n>=0\n",
    "    \n",
    "    if n == 0:\n",
    "        return 1\n",
    "    elif n % 2 == 0:\n",
    "        return pow(a**2, n//2)\n",
    "    else: # n>0 and  n % 2 != 0\n",
    "        return pow(a, n-1)*a"
   ]
  },
  {
   "cell_type": "code",
   "execution_count": 155,
   "metadata": {},
   "outputs": [
    {
     "name": "stdout",
     "output_type": "stream",
     "text": [
      "CPU times: user 44 µs, sys: 0 ns, total: 44 µs\n",
      "Wall time: 47.2 µs\n"
     ]
    },
    {
     "data": {
      "text/plain": [
       "47302125196911364530320786067367967283188273495805361364321982449805107834854016851873587120379412957353854564442241628692952528458736435759330969031110165528576"
      ]
     },
     "execution_count": 155,
     "metadata": {},
     "output_type": "execute_result"
    }
   ],
   "source": [
    "%%time\n",
    "\n",
    "pow2(18, 128)"
   ]
  },
  {
   "cell_type": "code",
   "execution_count": 160,
   "metadata": {},
   "outputs": [],
   "source": [
    "def generate_numbers(n, m, prefix=None):\n",
    "    \"\"\"\n",
    "    Generates all numbers of n with size m\n",
    "    :param n: max value of unique number, int\n",
    "    :param m: number size, int\n",
    "    :param prefix: system param, must be None\n",
    "    \"\"\"\n",
    "    \n",
    "    prefix = prefix or []\n",
    "    if m == 0:\n",
    "        print(*prefix)\n",
    "        return\n",
    "    else:\n",
    "        for digit in range(n): # loop through all numbers from 0 to n-1\n",
    "            prefix.append(digit) # adding each digit in range\n",
    "            generate_numbers(n, m-1, prefix) # gererate one number\n",
    "            prefix.pop() # removing the last element"
   ]
  },
  {
   "cell_type": "code",
   "execution_count": 161,
   "metadata": {},
   "outputs": [
    {
     "name": "stdout",
     "output_type": "stream",
     "text": [
      "0 0 0 0 0\n",
      "0 0 0 0 1\n",
      "0 0 0 1 0\n",
      "0 0 0 1 1\n",
      "0 0 1 0 0\n",
      "0 0 1 0 1\n",
      "0 0 1 1 0\n",
      "0 0 1 1 1\n",
      "0 1 0 0 0\n",
      "0 1 0 0 1\n",
      "0 1 0 1 0\n",
      "0 1 0 1 1\n",
      "0 1 1 0 0\n",
      "0 1 1 0 1\n",
      "0 1 1 1 0\n",
      "0 1 1 1 1\n",
      "1 0 0 0 0\n",
      "1 0 0 0 1\n",
      "1 0 0 1 0\n",
      "1 0 0 1 1\n",
      "1 0 1 0 0\n",
      "1 0 1 0 1\n",
      "1 0 1 1 0\n",
      "1 0 1 1 1\n",
      "1 1 0 0 0\n",
      "1 1 0 0 1\n",
      "1 1 0 1 0\n",
      "1 1 0 1 1\n",
      "1 1 1 0 0\n",
      "1 1 1 0 1\n",
      "1 1 1 1 0\n",
      "1 1 1 1 1\n"
     ]
    }
   ],
   "source": [
    "generate_numbers(2, 5)"
   ]
  },
  {
   "cell_type": "markdown",
   "metadata": {},
   "source": [
    "## Рекурсивные сортировки"
   ]
  },
  {
   "cell_type": "code",
   "execution_count": 245,
   "metadata": {},
   "outputs": [],
   "source": [
    "def merge_lists(a, b):\n",
    "    \"\"\"\n",
    "    Merge 2 lists with ascending order\n",
    "    :param a: list\n",
    "    :param b: list\n",
    "    \"\"\"\n",
    "    c = [0] * (len(a) + len(b))\n",
    "    \n",
    "    i = k = n = 0\n",
    "    while i < len(a) and k < len(b):\n",
    "        if a[i] <= b[k]:\n",
    "            c[n] = a[i]\n",
    "            i += 1\n",
    "            n += 1\n",
    "        else:\n",
    "            c[n] = b[k]\n",
    "            k +=1\n",
    "            n += 1\n",
    "    while i < len(a):\n",
    "        c[n] = a[i]\n",
    "        i += 1\n",
    "        n += 1\n",
    "    while k < len(b):\n",
    "        c[n] = b[k]\n",
    "        k += 1\n",
    "        n += 1\n",
    "    return c"
   ]
  },
  {
   "cell_type": "code",
   "execution_count": 256,
   "metadata": {},
   "outputs": [
    {
     "data": {
      "text/plain": [
       "[0, 1, 2, 2, 3, 4, 6, 7]"
      ]
     },
     "execution_count": 256,
     "metadata": {},
     "output_type": "execute_result"
    }
   ],
   "source": [
    "merge_lists([1, 2, 4], [0, 2, 3, 6, 7])"
   ]
  },
  {
   "cell_type": "code",
   "execution_count": 263,
   "metadata": {},
   "outputs": [],
   "source": [
    "def merge_sort(a):\n",
    "    \"\"\"\n",
    "    Merge sort\n",
    "    :param a: array\n",
    "    \"\"\"\n",
    "    if len(a) <= 1:\n",
    "        return a\n",
    "    \n",
    "    middle = len(a)//2\n",
    "    \n",
    "    l = merge_sort(a[: middle]) # [a[i] for i in range(middle)] # \n",
    "    r = merge_sort(a[middle: ]) # [a[i] for i in range(middle, len(a))] \n",
    "\n",
    "    return merge_lists(l, r)"
   ]
  },
  {
   "cell_type": "code",
   "execution_count": 265,
   "metadata": {},
   "outputs": [
    {
     "data": {
      "text/plain": [
       "[0, 1, 1, 2, 3, 4, 5, 6, 7, 7, 8]"
      ]
     },
     "execution_count": 265,
     "metadata": {},
     "output_type": "execute_result"
    }
   ],
   "source": [
    "merge_sort([1, 2, 4, 5, 7, 6, 0, 1, 3, 7, 8])"
   ]
  },
  {
   "cell_type": "code",
   "execution_count": null,
   "metadata": {},
   "outputs": [],
   "source": []
  }
 ],
 "metadata": {
  "kernelspec": {
   "display_name": "Python 3",
   "language": "python",
   "name": "python3"
  },
  "language_info": {
   "codemirror_mode": {
    "name": "ipython",
    "version": 3
   },
   "file_extension": ".py",
   "mimetype": "text/x-python",
   "name": "python",
   "nbconvert_exporter": "python",
   "pygments_lexer": "ipython3",
   "version": "3.6.8"
  }
 },
 "nbformat": 4,
 "nbformat_minor": 4
}
