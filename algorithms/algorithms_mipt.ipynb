{
 "cells": [
  {
   "cell_type": "markdown",
   "metadata": {},
   "source": [
    "### Brute force"
   ]
  },
  {
   "cell_type": "code",
   "execution_count": 22,
   "metadata": {},
   "outputs": [],
   "source": [
    "# является ли число простым\n",
    "\n",
    "def is_simple(x):\n",
    "    \"\"\"\n",
    "    Is x simple or not\n",
    "    :param x: int\n",
    "    \"\"\"\n",
    "    assert x>0\n",
    "    divisor = 2\n",
    "    while divisor<x:\n",
    "        if  x%divisor == 0:\n",
    "            return False\n",
    "        divisor += 1\n",
    "    return True"
   ]
  },
  {
   "cell_type": "code",
   "execution_count": 24,
   "metadata": {},
   "outputs": [
    {
     "data": {
      "text/plain": [
       "False"
      ]
     },
     "execution_count": 24,
     "metadata": {},
     "output_type": "execute_result"
    }
   ],
   "source": [
    "is_simple(33)"
   ]
  },
  {
   "cell_type": "code",
   "execution_count": 19,
   "metadata": {},
   "outputs": [],
   "source": [
    "# разложение числа на множители\n",
    "\n",
    "def factorize_number(x):\n",
    "    \"\"\"\n",
    "    Decomposes a number into multipliers\n",
    "    :param x: int\n",
    "    \"\"\"\n",
    "    assert x>0\n",
    "    multipliers = []\n",
    "    divisor = 2\n",
    "    while x > 1:\n",
    "        if x%divisor == 0:\n",
    "            multipliers.append(divisor)\n",
    "            x /= divisor \n",
    "        else:\n",
    "            divisor += 1\n",
    "    return multipliers"
   ]
  },
  {
   "cell_type": "code",
   "execution_count": 27,
   "metadata": {},
   "outputs": [
    {
     "data": {
      "text/plain": [
       "[2, 3, 3, 521]"
      ]
     },
     "execution_count": 27,
     "metadata": {},
     "output_type": "execute_result"
    }
   ],
   "source": [
    "factorize_number(9378)"
   ]
  },
  {
   "cell_type": "code",
   "execution_count": 33,
   "metadata": {},
   "outputs": [],
   "source": [
    "# поиск элемента в массиве\n",
    "\n",
    "def array_search(a, x):\n",
    "    \"\"\"\n",
    "    Search x in array\n",
    "    :param a: array\n",
    "    :param x: int\n",
    "    :return : first x index if in a or -1\n",
    "    \"\"\"\n",
    "    n = len(a)\n",
    "    assert n>0\n",
    "    \n",
    "    for i in range(n):\n",
    "        if a[i] == x:\n",
    "            return i\n",
    "    return -1"
   ]
  },
  {
   "cell_type": "code",
   "execution_count": 34,
   "metadata": {},
   "outputs": [
    {
     "data": {
      "text/plain": [
       "4"
      ]
     },
     "execution_count": 34,
     "metadata": {},
     "output_type": "execute_result"
    }
   ],
   "source": [
    "array_search([1, 2, 3, 4, 5], 5)"
   ]
  },
  {
   "cell_type": "code",
   "execution_count": 40,
   "metadata": {},
   "outputs": [],
   "source": [
    "# обращение массива\n",
    "\n",
    "def invert_array(a):\n",
    "    \"\"\"\n",
    "    Array handling\n",
    "    :param a: list\n",
    "    \"\"\"\n",
    "    n = len(a)\n",
    "    assert n>0\n",
    "    \n",
    "    for i in range(n//2):\n",
    "        a[i], a[n-1-i] = a[n-1-i], a[i]"
   ]
  },
  {
   "cell_type": "code",
   "execution_count": 41,
   "metadata": {},
   "outputs": [
    {
     "name": "stdout",
     "output_type": "stream",
     "text": [
      "[5, 4, 3, 2, 1]\n"
     ]
    }
   ],
   "source": [
    "a = [1, 2, 3, 4, 5]\n",
    "invert_array(a)\n",
    "\n",
    "print(a)"
   ]
  },
  {
   "cell_type": "code",
   "execution_count": 72,
   "metadata": {},
   "outputs": [],
   "source": [
    "# циклический сдвиг массива\n",
    "\n",
    "def cyclic_shift(a, kind='left'):\n",
    "    \"\"\"\n",
    "    Cyclic shift of the array\n",
    "    :param a: list\n",
    "    :param kind: left or right, str\n",
    "    \"\"\"\n",
    "    n = len(a)\n",
    "    assert n > 0 \n",
    "    \n",
    "    if kind == 'left':\n",
    "        tmp = a[0]\n",
    "        for i in range(n-1):\n",
    "            a[i] = a[i+1]\n",
    "        a[n-1] = tmp\n",
    "    if kind == 'right':\n",
    "        tmp = a[n-1]\n",
    "        for i in range(n-2, -1, -1):\n",
    "            a[i] = a[i-1]\n",
    "        a[0] = tmp\n",
    "    else:\n",
    "        raise Error('Unknown kind!')"
   ]
  },
  {
   "cell_type": "code",
   "execution_count": 73,
   "metadata": {},
   "outputs": [
    {
     "name": "stdout",
     "output_type": "stream",
     "text": [
      "[5, 0, 1, 2, 3, 5]\n"
     ]
    }
   ],
   "source": [
    "a = [0, 1, 2, 3, 4, 5]\n",
    "cyclic_shift(a, kind='right')\n",
    "\n",
    "print(a)"
   ]
  },
  {
   "cell_type": "code",
   "execution_count": 52,
   "metadata": {},
   "outputs": [],
   "source": [
    "# решето Эратосфена\n",
    "\n",
    "def Eratosthenes_sieve(n):\n",
    "    \"\"\"\n",
    "    Sieve of Eratosthenes\n",
    "    :param n: int\n",
    "    \"\"\"\n",
    "    assert n>2\n",
    "    \n",
    "    a = [True]*n\n",
    "    a[0] = a[1] = False\n",
    "    \n",
    "    for i in range(2, n):\n",
    "        if a[i]:\n",
    "            for k in range(2*i, n, i):\n",
    "                a[k] = False\n",
    "    \n",
    "    result = []\n",
    "    for k in range(n):\n",
    "        if a[k]:\n",
    "            result.append(k)\n",
    "    return result"
   ]
  },
  {
   "cell_type": "code",
   "execution_count": 53,
   "metadata": {},
   "outputs": [
    {
     "data": {
      "text/plain": [
       "[2, 3, 5, 7]"
      ]
     },
     "execution_count": 53,
     "metadata": {},
     "output_type": "execute_result"
    }
   ],
   "source": [
    "Eratosthenes_sieve(10)"
   ]
  },
  {
   "cell_type": "markdown",
   "metadata": {},
   "source": [
    "## Квадратичные сортировки O(n**2)"
   ]
  },
  {
   "cell_type": "code",
   "execution_count": 58,
   "metadata": {},
   "outputs": [],
   "source": [
    "# сортировка вставками\n",
    "\n",
    "def insert_sort(a):\n",
    "    \"\"\"\n",
    "    Ascending sort of list using insert sorting\n",
    "    :param a: list\n",
    "    \"\"\"\n",
    "    n = len(a)\n",
    "    assert n > 0\n",
    "    \n",
    "    for t in range(n):\n",
    "        k = t\n",
    "        while k>0 and a[k-1] > a[k]:\n",
    "            a[k-1], a[k] = a[k], a[k-1]\n",
    "            k -=1"
   ]
  },
  {
   "cell_type": "code",
   "execution_count": 59,
   "metadata": {},
   "outputs": [
    {
     "name": "stdout",
     "output_type": "stream",
     "text": [
      "[1, 2, 3, 4, 5]\n"
     ]
    }
   ],
   "source": [
    "a = [4, 3, 1, 2, 5]\n",
    "\n",
    "insert_sort(a)\n",
    "print(a)"
   ]
  },
  {
   "cell_type": "code",
   "execution_count": 62,
   "metadata": {},
   "outputs": [],
   "source": [
    "# сотрировка выбором\n",
    "\n",
    "def choice_sort(a):\n",
    "    \"\"\"\n",
    "    Ascending sort of list using choice sorting\n",
    "    :param a: list\n",
    "    \"\"\"\n",
    "    n = len(a)\n",
    "    assert n > 0\n",
    "    \n",
    "    for pos in range(n-1):\n",
    "        for k in range(pos+1, n):\n",
    "            if a[k] < a[pos]:\n",
    "                a[k], a[pos] = a[pos], a[k] "
   ]
  },
  {
   "cell_type": "code",
   "execution_count": 63,
   "metadata": {},
   "outputs": [
    {
     "name": "stdout",
     "output_type": "stream",
     "text": [
      "[1, 2, 3, 4, 5]\n"
     ]
    }
   ],
   "source": [
    "a = [4, 3, 1, 2, 5]\n",
    "\n",
    "choice_sort(a)\n",
    "print(a)"
   ]
  },
  {
   "cell_type": "code",
   "execution_count": 68,
   "metadata": {},
   "outputs": [],
   "source": [
    "# сотрировка пузырьком\n",
    "\n",
    "def bubble_sort(a):\n",
    "    \"\"\"\n",
    "    Ascending sort of list using bubble sorting\n",
    "    :param a: list\n",
    "    \"\"\"\n",
    "    n = len(a)\n",
    "    assert n > 0\n",
    "    \n",
    "    for p in range(1, n):\n",
    "        for k in range(n-p):\n",
    "            if a[k] > a[k+1]:\n",
    "                a[k], a[k+1] = a[k+1], a[k]"
   ]
  },
  {
   "cell_type": "code",
   "execution_count": 69,
   "metadata": {},
   "outputs": [
    {
     "name": "stdout",
     "output_type": "stream",
     "text": [
      "[1, 2, 3, 4, 5]\n"
     ]
    }
   ],
   "source": [
    "a = [4, 3, 1, 2, 5]\n",
    "\n",
    "bubble_sort(a)\n",
    "print(a)"
   ]
  },
  {
   "cell_type": "markdown",
   "metadata": {},
   "source": [
    "## Рекурсия"
   ]
  },
  {
   "cell_type": "code",
   "execution_count": 79,
   "metadata": {},
   "outputs": [],
   "source": [
    "def matryoshka(n):\n",
    "    \"\"\"\n",
    "    Prints matryoshka with n elements\n",
    "    :param n: number of elements, int\n",
    "    \"\"\"\n",
    "    if n == 1:\n",
    "        print('Matryoshechka')\n",
    "    else:\n",
    "        print(f'Matryoshka top n={n}')\n",
    "        matryoshka(n-1)\n",
    "        print(f'Matryoshka bottom n={n}')"
   ]
  },
  {
   "cell_type": "code",
   "execution_count": 80,
   "metadata": {},
   "outputs": [
    {
     "name": "stdout",
     "output_type": "stream",
     "text": [
      "Matryoshka top n=6\n",
      "Matryoshka top n=5\n",
      "Matryoshka top n=4\n",
      "Matryoshka top n=3\n",
      "Matryoshka top n=2\n",
      "Matryoshechka\n",
      "Matryoshka bottom n=2\n",
      "Matryoshka bottom n=3\n",
      "Matryoshka bottom n=4\n",
      "Matryoshka bottom n=5\n",
      "Matryoshka bottom n=6\n"
     ]
    }
   ],
   "source": [
    "matryoshka(6)"
   ]
  }
 ],
 "metadata": {
  "kernelspec": {
   "display_name": "Python 3",
   "language": "python",
   "name": "python3"
  },
  "language_info": {
   "codemirror_mode": {
    "name": "ipython",
    "version": 3
   },
   "file_extension": ".py",
   "mimetype": "text/x-python",
   "name": "python",
   "nbconvert_exporter": "python",
   "pygments_lexer": "ipython3",
   "version": "3.6.8"
  }
 },
 "nbformat": 4,
 "nbformat_minor": 4
}
