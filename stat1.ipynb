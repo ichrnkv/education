{
 "cells": [
  {
   "cell_type": "markdown",
   "metadata": {},
   "source": [
    "## Основы статистики\n",
    "https://stepik.org/course/76/syllabus\n",
    "### 1. Введение"
   ]
  },
  {
   "cell_type": "code",
   "execution_count": 16,
   "metadata": {},
   "outputs": [],
   "source": [
    "import numpy as np\n",
    "import math\n",
    "import random\n",
    "from matplotlib import pyplot as plt"
   ]
  },
  {
   "cell_type": "code",
   "execution_count": 30,
   "metadata": {},
   "outputs": [
    {
     "data": {
      "image/png": "[encoded data removed]",
      "text/plain": [
       "<Figure size 432x288 with 1 Axes>"
      ]
     },
     "metadata": {
      "needs_background": "light"
     },
     "output_type": "display_data"
    }
   ],
   "source": [
    "r = np.random.normal(100,100,1000)\n",
    "\n",
    "plt.hist(r, bins = 100, alpha=.5);"
   ]
  },
  {
   "cell_type": "code",
   "execution_count": 33,
   "metadata": {},
   "outputs": [
    {
     "data": {
      "text/plain": [
       "96.28199972896704"
      ]
     },
     "execution_count": 33,
     "metadata": {},
     "output_type": "execute_result"
    }
   ],
   "source": [
    "#дисперсия и станд. откл.\n",
    "\n",
    "def disp(x):\n",
    "    mean = sum(x)/len(x) # или mean = np.mean(x)\n",
    "    c = 0\n",
    "    for item in x:\n",
    "        c += (mean - item)**2\n",
    "    return c/len(x)\n",
    "\n",
    "def std(x):\n",
    "    d = disp(x)\n",
    "    return d**0.5\n",
    "\n",
    "std(r)"
   ]
  },
  {
   "cell_type": "code",
   "execution_count": 38,
   "metadata": {},
   "outputs": [
    {
     "data": {
      "image/png": "[encoded data removed]",
      "text/plain": [
       "<Figure size 432x288 with 1 Axes>"
      ]
     },
     "metadata": {
      "needs_background": "light"
     },
     "output_type": "display_data"
    }
   ],
   "source": [
    "#стандартизация\n",
    "    \n",
    "def standartization(x):\n",
    "    m = np.mean(x)\n",
    "    sd = std(x)\n",
    "    \n",
    "    for idx in range(len(x)):\n",
    "        x[idx] = (x[idx] - m)/sd\n",
    "    return x\n",
    "\n",
    "r_sd = standartization(r)\n",
    "plt.hist(r_sd, bins = 50, alpha = 0.5);"
   ]
  },
  {
   "cell_type": "code",
   "execution_count": 40,
   "metadata": {},
   "outputs": [
    {
     "data": {
      "text/plain": [
       "-0.006282165704193047"
      ]
     },
     "execution_count": 40,
     "metadata": {},
     "output_type": "execute_result"
    }
   ],
   "source": [
    "np.median(r_sd)"
   ]
  },
  {
   "cell_type": "code",
   "execution_count": 42,
   "metadata": {},
   "outputs": [
    {
     "data": {
      "text/plain": [
       "4.0"
      ]
     },
     "execution_count": 42,
     "metadata": {},
     "output_type": "execute_result"
    }
   ],
   "source": [
    "#z статистика для 15 задачи 1 модуля\n",
    "\n",
    "def se(sd, N):\n",
    "    return sd/np.sqrt(N)\n",
    "\n",
    "def z_stat(X, M, sd, N):\n",
    "    se_s = se(sd, N)\n",
    "    return (X-M)/se_s\n",
    "\n",
    "z_stat(118,115,9,144)"
   ]
  },
  {
   "cell_type": "code",
   "execution_count": 52,
   "metadata": {},
   "outputs": [
    {
     "data": {
      "text/plain": [
       "'0.000063'"
      ]
     },
     "execution_count": 52,
     "metadata": {},
     "output_type": "execute_result"
    }
   ],
   "source": [
    "#расчет p-value\n",
    "\n",
    "from scipy import stats\n",
    "\n",
    "def p_value(z_stat, alternative = 'two-sided'):\n",
    "    \n",
    "    if alternative == 'two-sided':\n",
    "        return 2 * (1 - stats.norm.cdf(np.abs(z_stat)))\n",
    "    \n",
    "    if alternative == 'less':\n",
    "        return stats.norm.cdf(z_stat)\n",
    "\n",
    "    if alternative == 'greater':\n",
    "        return 1 - stats.norm.cdf(z_stat)\n",
    "    \n",
    "format(float(p_value(4, 'two-sided')), 'f')"
   ]
  }
 ],
 "metadata": {
  "kernelspec": {
   "display_name": "Python 3",
   "language": "python",
   "name": "python3"
  },
  "language_info": {
   "codemirror_mode": {
    "name": "ipython",
    "version": 3
   },
   "file_extension": ".py",
   "mimetype": "text/x-python",
   "name": "python",
   "nbconvert_exporter": "python",
   "pygments_lexer": "ipython3",
   "version": "3.7.1"
  }
 },
 "nbformat": 4,
 "nbformat_minor": 2
}
