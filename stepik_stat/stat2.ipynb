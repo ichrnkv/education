{
 "cells": [
  {
   "cell_type": "markdown",
   "metadata": {},
   "source": [
    "## Основы статистики\n",
    "https://stepik.org/course/76/syllabus\n",
    "### 2. Сравнение средних\n",
    "### 2.1 T-распределение"
   ]
  },
  {
   "cell_type": "code",
   "execution_count": 1,
   "metadata": {},
   "outputs": [],
   "source": [
    "from scipy import stats\n",
    "import numpy as np\n",
    "\n",
    "def get_se(sd, N):\n",
    "    '''Стандартная ошибка'''\n",
    "    return sd/np.sqrt(N)\n",
    "\n",
    "def z_stat(X, M, sd, N):\n",
    "    '''z-значение'''\n",
    "    se = get_se(sd, N)\n",
    "    return (X-M)/se\n",
    "\n",
    "def p_value_norm(z_stat, alternative = 'two-sided'):\n",
    "    '''p_value для нормального распределения'''\n",
    "    if alternative == 'two-sided':\n",
    "        return 2 * (1 - stats.norm.cdf(np.abs(z_stat)))\n",
    "    \n",
    "    if alternative == 'less':\n",
    "        return stats.norm.cdf(z_stat)\n",
    "\n",
    "    if alternative == 'greater':\n",
    "        return 1 - stats.norm.cdf(z_stat)"
   ]
  },
  {
   "cell_type": "code",
   "execution_count": 2,
   "metadata": {},
   "outputs": [
    {
     "data": {
      "text/plain": [
       "0.04550026389635842"
      ]
     },
     "execution_count": 2,
     "metadata": {},
     "output_type": "execute_result"
    }
   ],
   "source": [
    "#шаги 6-9\n",
    "\n",
    "z = z_stat(10.8, 10, 2, 25)\n",
    "p_value_norm(2, 'two-sided')"
   ]
  },
  {
   "cell_type": "code",
   "execution_count": 3,
   "metadata": {},
   "outputs": [
    {
     "data": {
      "text/plain": [
       "0.0569398499365914"
      ]
     },
     "execution_count": 3,
     "metadata": {},
     "output_type": "execute_result"
    }
   ],
   "source": [
    "#шаги 6-9\n",
    "#используем t-распределение\n",
    "\n",
    "def p_value_t(t_stat, N, alternative = 'two-sided'):\n",
    "    df = N-1 #кол-во степеней свободы\n",
    "    if alternative == 'two-sided':\n",
    "        return 2*(1-stats.t.cdf(np.abs(t_stat),df))\n",
    "    if alternative == 'less':\n",
    "        return stats.t.cdf(t_stat, df)\n",
    "    if alternative == 'greater':\n",
    "        return 1 - stats.t.cdf(t_stat, df)\n",
    "\n",
    "p_value_t(z, 25)"
   ]
  },
  {
   "cell_type": "code",
   "execution_count": 4,
   "metadata": {},
   "outputs": [
    {
     "data": {
      "text/plain": [
       "0.06528795288911193"
      ]
     },
     "execution_count": 4,
     "metadata": {},
     "output_type": "execute_result"
    }
   ],
   "source": [
    "#шаг 10\n",
    "p_value_t(-2, 15)"
   ]
  },
  {
   "cell_type": "markdown",
   "metadata": {},
   "source": [
    "### 2.2 Сравнение двух средних; t-критерий Стьюдента"
   ]
  },
  {
   "cell_type": "code",
   "execution_count": 5,
   "metadata": {},
   "outputs": [],
   "source": [
    "#парный t-тест (t-критерий Стьюдента)\n",
    "\n",
    "def t_stat(X1, X2, sd1, sd2, N1, N2):\n",
    "    se = np.sqrt(sd1**2/N1+sd2**2/N2)\n",
    "    return (X1-X2)/se\n",
    "\n",
    "def p_value_t_pair(t_stat, N1, N2, alternative = 'two-sided'):\n",
    "    df = N1+N2-2 #кол-во степеней свободы\n",
    "    if alternative == 'two-sided':\n",
    "        return 2*(1-stats.t.cdf(np.abs(t_stat),df))\n",
    "    if alternative == 'less':\n",
    "        return stats.t.cdf(t_stat, df)\n",
    "    if alternative == 'greater':\n",
    "        return 1 - stats.t.cdf(t_stat, df)"
   ]
  },
  {
   "cell_type": "code",
   "execution_count": 6,
   "metadata": {},
   "outputs": [
    {
     "data": {
      "text/plain": [
       "3.441691376337985e-14"
      ]
     },
     "execution_count": 6,
     "metadata": {},
     "output_type": "execute_result"
    }
   ],
   "source": [
    "#шаг 12\n",
    "\n",
    "t = t_stat(45,34,9,10,100,100)\n",
    "p_value_t_pair(t, 100, 100)"
   ]
  },
  {
   "cell_type": "markdown",
   "metadata": {},
   "source": [
    "### 2.3  Проверка распределения на нормальность, QQ-Plot"
   ]
  },
  {
   "cell_type": "code",
   "execution_count": 7,
   "metadata": {},
   "outputs": [
    {
     "data": {
      "text/plain": [
       "<Figure size 640x480 with 1 Axes>"
      ]
     },
     "metadata": {},
     "output_type": "display_data"
    }
   ],
   "source": [
    "import math\n",
    "from matplotlib import pyplot as plt\n",
    "import random\n",
    "import scipy.stats as stats\n",
    "\n",
    "\n",
    "data = stats.norm.rvs(10.0,5,size=1000)\n",
    "mu, std = stats.norm.fit(data)\n",
    "\n",
    "plt.hist(data, bins = 100, alpha = 0.5, density = True);\n",
    "\n",
    "xmin, xmax = plt.xlim()\n",
    "x = np.linspace(xmin, xmax, 100)\n",
    "p = stats.norm.pdf(x, mu, std)\n",
    "plt.plot(x, p, 'k', linewidth=2)\n",
    "title = \"Fit results: mu = %.2f,  std = %.2f\" % (mu, std)\n",
    "plt.title(title)\n",
    "\n",
    "plt.show()"
   ]
  },
  {
   "cell_type": "code",
   "execution_count": 8,
   "metadata": {},
   "outputs": [
    {
     "name": "stdout",
     "output_type": "stream",
     "text": [
      "0.0017219304572790861\n"
     ]
    }
   ],
   "source": [
    "#критерий Shapiro-Wilk\n",
    "\n",
    "p_value = stats.shapiro(x)[1]\n",
    "print(p_value)"
   ]
  },
  {
   "cell_type": "code",
   "execution_count": 9,
   "metadata": {},
   "outputs": [
    {
     "data": {
      "image/png": "[encoded data removed]",
      "text/plain": [
       "<Figure size 432x288 with 1 Axes>"
      ]
     },
     "metadata": {
      "needs_background": "light"
     },
     "output_type": "display_data"
    }
   ],
   "source": [
    "#визуальное сравнение с нормальным распределением\n",
    "\n",
    "r = np.random.normal(100,100,1000)\n",
    "\n",
    "mu, std = stats.norm.fit(r)\n",
    "\n",
    "plt.hist(r, bins = 100, alpha = 0.5, density = True);\n",
    "\n",
    "xmin, xmax = plt.xlim()\n",
    "x = np.linspace(xmin, xmax, 100)\n",
    "p = stats.norm.pdf(x, mu, std)\n",
    "plt.plot(x, p, 'k', linewidth=2)\n",
    "title = \"Fit results: mu = %.2f,  std = %.2f\" % (mu, std)\n",
    "plt.title(title)\n",
    "\n",
    "plt.show()"
   ] 
  },
  {
   "cell_type": "code",
   "execution_count": 10,
   "metadata": {},
   "outputs": [
    {
     "name": "stdout",
     "output_type": "stream",
     "text": [
      "P significance level is 0.95473\n",
      "P-value is 0.00172\n"
     ]
    }
   ],
   "source": [
    "#критерий Shapiro-Wilk\n",
    "\n",
    "p_sign, p_value = stats.shapiro(x)\n",
    "print('P significance level is %.5f' %(p_sign))\n",
    "print('P-value is %.5f' %(p_value))"
   ]
  },
  {
   "cell_type": "code",
   "execution_count": 11,
   "metadata": {},
   "outputs": [
    {
     "data": {
      "image/png": "[encoded data removed]",
      "text/plain": [
       "<Figure size 432x288 with 1 Axes>"
      ]
     },
     "metadata": {
      "needs_background": "light"
     },
     "output_type": "display_data"
    }
   ],
   "source": [
    "#qq plot\n",
    "\n",
    "stats.probplot(r, dist=\"norm\", plot=plt)\n",
    "plt.show();"
   ]
  },
  {
   "cell_type": "code",
   "execution_count": 12,
   "metadata": {},
   "outputs": [
    {
     "name": "stdout",
     "output_type": "stream",
     "text": [
      "P-value is 0.06784\n"
     ]
    }
   ],
   "source": [
    "#U-тест Манна-Уинтни\n",
    "\n",
    "#добавим выбросы\n",
    "r[-1] = 1000000\n",
    "x[0] = -1000000\n",
    "\n",
    "p_value = stats.mannwhitneyu(r, x)[1]\n",
    "\n",
    "print('P-value is %.5f' %(p_value))"
   ]
  },
  {
   "cell_type": "markdown",
   "metadata": {},
   "source": [
    "### 2.4 Однофакторный дисперсионный анализ"
   ]
  },
  {
   "cell_type": "code",
   "execution_count": 13,
   "metadata": {},
   "outputs": [],
   "source": [
    "#расчет F-значения\n",
    "\n",
    "def MSbg(*args):\n",
    "    '''Межгруповой средний квадрат'''\n",
    "    groups = [x for x in args]\n",
    "    m = len(groups)\n",
    "    mean = np.mean([item for sublist in groups for item in sublist])\n",
    "    ssb = 0\n",
    "    for item in groups:\n",
    "        ssb +=len(item)*(np.mean(item)-mean)**2\n",
    "   \n",
    "    return ssb/(m-1)\n",
    "\n",
    "\n",
    "def MSwg(*args):\n",
    "    '''Внутригрупповой средний квадрат'''\n",
    "    groups = [x for x in args]\n",
    "    N = len([item for sublist in groups for item in sublist])\n",
    "    m = len(groups)\n",
    "    ssw = 0\n",
    "    for sublist in groups:\n",
    "        sublist_mean = np.mean(sublist)\n",
    "        for item in sublist:\n",
    "            ssw+=(item-sublist_mean)**2\n",
    "            \n",
    "    return ssw/(N-m)\n",
    "\n",
    "def F_stat(*args):\n",
    "    return MSbg(*args)/MSwg(*args)\n",
    "\n",
    "def p_value_F(f_stat, N, m):\n",
    "    df1 = m-1 #кол-во степеней свободы 1 (m-1)\n",
    "    df2 = N-m #кол-во степеней свободы 2 (N-m)\n",
    "    return 1 - stats.f.cdf(f_stat, df1, df2)"
   ]
  },
  {
   "cell_type": "code",
   "execution_count": 14,
   "metadata": {},
   "outputs": [
    {
     "name": "stdout",
     "output_type": "stream",
     "text": [
      "P-value for this example is: 0.00800\n"
     ]
    }
   ],
   "source": [
    "#шаги 1-10\n",
    "x1,x2,x3 = [3,2,1],[5,3,4],[7,6,5]\n",
    "\n",
    "f_stat = F_stat(x1,x2,x3)\n",
    "print('P-value for this example is: %.5f' %p_value_F(f_stat, 9, 3))"
   ]
  },
  {
   "cell_type": "markdown",
   "metadata": {},
   "source": [
    "P-value < 0.05, отклоняем нулевую гипотезу о схожести групп. Как минимум 2 средних отличаются друг от друга."
   ]
  },
  {
   "cell_type": "code",
   "execution_count": 15,
   "metadata": {},
   "outputs": [
    {
     "data": {
      "image/png": "[encoded data removed]",
      "text/plain": [
       "<Figure size 432x288 with 1 Axes>"
      ]
     },
     "metadata": {
      "needs_background": "light"
     },
     "output_type": "display_data"
    }
   ],
   "source": [
    "#визуализация результата\n",
    "\n",
    "import pandas as pd\n",
    "import seaborn as sns\n",
    "\n",
    "l = [x1,x2,x3]\n",
    "\n",
    "df = pd.DataFrame(columns=['value','group']) #.reset_index()\n",
    "for idx in range(len(l)):\n",
    "    tmp = pd.DataFrame({'value':l[idx], 'group':idx+1})\n",
    "    df = pd.concat([df,tmp])\n",
    "\n",
    "df['value'] = df['value'].astype('int')\n",
    "sns.boxplot(x = 'group', y = 'value', data = df);"
   ]
  },
  {
   "cell_type": "markdown",
   "metadata": {},
   "source": [
    "### 2.5 Множественные сравнения в ANOVA"
   ]
  },
  {
   "cell_type": "code",
   "execution_count": 16,
   "metadata": {},
   "outputs": [
    {
     "data": {
      "image/png": "[encoded data removed]",
      "text/plain": [
       "<Figure size 432x288 with 1 Axes>"
      ]
     },
     "metadata": {
      "needs_background": "light"
     },
     "output_type": "display_data"
    }
   ],
   "source": [
    "#генеральная совокупнасть, распределенная нормально (M=0, D=1)\n",
    "\n",
    "r = np.random.normal(0,1,10000)\n",
    "\n",
    "plt.hist(r, bins = 50);"
   ]
  },
  {
   "cell_type": "code",
   "execution_count": 17,
   "metadata": {},
   "outputs": [],
   "source": [
    "#функции для получения случайной выборки и N случайных выборок размера n\n",
    "\n",
    "import random\n",
    "def get_random_example(X, n):\n",
    "    idx = [random.randrange(0, len(X), 1) for i in range(n)]\n",
    "    return [X[i] for i in idx]\n",
    "\n",
    "def get_multiple_examples(X,N,n):\n",
    "    examples = list()\n",
    "    for item in range(N):\n",
    "        examples.append(get_random_example(X,n))\n",
    "    return examples"
   ]
  },
  {
   "cell_type": "code",
   "execution_count": 18,
   "metadata": {},
   "outputs": [],
   "source": [
    "from itertools import combinations\n",
    "\n",
    "#1000 раз получаем N выборок\n",
    "\n",
    "exs = []\n",
    "for i in range(1000):\n",
    "    exs.append(get_multiple_examples(X=r, N=8, n=30))\n",
    "    \n",
    "#считаем по ним необходимые статистики (Xср, станд. откл, кол-во элементов)    \n",
    "sstats = []\n",
    "for subset in exs:\n",
    "    sstats.append(\n",
    "        [ {\n",
    "        'X':np.mean(x),\n",
    "        'std':np.std(x),\n",
    "        'N':len(x)\n",
    "    }\n",
    "    for x in subset]\n",
    "    )\n",
    "    \n",
    "#формируем все возможные пары для каждой группы выборок\n",
    "combs = [list(combinations(x,2)) for x in sstats]"
   ]
  },
  {
   "cell_type": "code",
   "execution_count": 19,
   "metadata": {},
   "outputs": [
    {
     "data": {
      "image/png": "[encoded data removed]",
      "text/plain": [
       "<Figure size 432x288 with 1 Axes>"
      ]
     },
     "metadata": {
      "needs_background": "light"
     },
     "output_type": "display_data"
    }
   ],
   "source": [
    "#функции из 2.2\n",
    "\n",
    "def t_stat(X1, X2, sd1, sd2, N1, N2):\n",
    "    se = np.sqrt(sd1**2/N1+sd2**2/N2)\n",
    "    return (X1-X2)/se\n",
    "\n",
    "def p_value_t_pair(t_stat, N1, N2, alternative = 'two-sided'):\n",
    "    df = N1+N2-2 #кол-во степеней свободы\n",
    "    if alternative == 'two-sided':\n",
    "        return 2*(1-stats.t.cdf(np.abs(t_stat),df))\n",
    "    if alternative == 'less':\n",
    "        return stats.t.cdf(t_stat, df)\n",
    "    if alternative == 'greater':\n",
    "        return 1 - stats.t.cdf(t_stat, df)\n",
    "\n",
    "\n",
    "def false_alarm(combs):\n",
    "    p_stats = list()\n",
    "    for element in combs:\n",
    "        elem_stat = list()\n",
    "        for pair in element:\n",
    "            N1 = pair[0]['N']\n",
    "            N2 = pair[1]['N']\n",
    "            t_st =  t_stat(\n",
    "                    X1 = pair[0]['X'],\n",
    "                    X2 = pair[1]['X'],\n",
    "                    sd1 = pair[0]['std'],\n",
    "                    sd2 = pair[1]['std'],\n",
    "                    N1 = N1,\n",
    "                    N2 = N2\n",
    "            )\n",
    "            p_val = p_value_t_pair(\n",
    "                t_stat = t_st,\n",
    "                N1 = N1,\n",
    "                N2 = N2\n",
    "            )\n",
    "            elem_stat.append(p_val)\n",
    "\n",
    "        p_stats.append(elem_stat)\n",
    "\n",
    "    final = []\n",
    "    for item in p_stats:\n",
    "        final.append(\n",
    "             1 if any(x < 0.05 for x in item) else 0\n",
    "        )\n",
    "\n",
    "    final_d = {\n",
    "        '1':sum(final),\n",
    "        '0':len(final)-sum(final)\n",
    "    }\n",
    "    return final_d\n",
    "\n",
    "final_d = false_alarm(combs)\n",
    "plt.bar(final_d.keys(), final_d.values());"
   ]
  }
 ],
 "metadata": {
  "kernelspec": {
   "display_name": "Python 3",
   "language": "python",
   "name": "python3"
  },
  "language_info": {
   "codemirror_mode": {
    "name": "ipython",
    "version": 3
   },
   "file_extension": ".py",
   "mimetype": "text/x-python",
   "name": "python",
   "nbconvert_exporter": "python",
   "pygments_lexer": "ipython3",
   "version": "3.7.1"
  }
 },
 "nbformat": 4,
 "nbformat_minor": 2
}
