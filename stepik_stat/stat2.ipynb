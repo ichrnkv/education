{
 "cells": [
  {
   "cell_type": "markdown",
   "metadata": {},
   "source": [
    "## Основы статистики\n",
    "https://stepik.org/course/76/syllabus\n",
    "### 2. Сравнение средних\n",
    "### 2.1 T-распределение"
   ]
  },
  {
   "cell_type": "code",
   "execution_count": 20,
   "metadata": {},
   "outputs": [],
   "source": [
    "from scipy import stats\n",
    "import numpy as np\n",
    "\n",
    "def get_se(sd, N):\n",
    "    '''Стандартная ошибка'''\n",
    "    return sd/np.sqrt(N)\n",
    "\n",
    "def z_stat(X, M, sd, N):\n",
    "    '''z-значение'''\n",
    "    se = get_se(sd, N)\n",
    "    return (X-M)/se\n",
    "\n",
    "def p_value_norm(z_stat, alternative = 'two-sided'):\n",
    "    '''p_value для нормального распределения'''\n",
    "    if alternative == 'two-sided':\n",
    "        return 2 * (1 - stats.norm.cdf(np.abs(z_stat)))\n",
    "    \n",
    "    if alternative == 'less':\n",
    "        return stats.norm.cdf(z_stat)\n",
    "\n",
    "    if alternative == 'greater':\n",
    "        return 1 - stats.norm.cdf(z_stat)"
   ]
  },
  {
   "cell_type": "code",
   "execution_count": 21,
   "metadata": {},
   "outputs": [
    {
     "data": {
      "text/plain": [
       "0.04550026389635842"
      ]
     },
     "execution_count": 21,
     "metadata": {},
     "output_type": "execute_result"
    }
   ],
   "source": [
    "#шаги 6-9\n",
    "\n",
    "z = z_stat(10.8, 10, 2, 25)\n",
    "p_value_norm(2, 'two-sided')"
   ]
  },
  {
   "cell_type": "code",
   "execution_count": 24,
   "metadata": {},
   "outputs": [
    {
     "data": {
      "text/plain": [
       "0.0569398499365914"
      ]
     },
     "execution_count": 24,
     "metadata": {},
     "output_type": "execute_result"
    }
   ],
   "source": [
    "#шаги 6-9\n",
    "#используем t-распределение\n",
    "\n",
    "def p_value_t(t_stat, N, alternative = 'two-sided'):\n",
    "    df = N-1 #кол-во степеней свободы\n",
    "    if alternative == 'two-sided':\n",
    "        return 2*(1-stats.t.cdf(np.abs(t_stat),df))\n",
    "    if alternative == 'less':\n",
    "        return stats.t.cdf(t_stat, df)\n",
    "    if alternative == 'greater':\n",
    "        return 1 - stats.t.cdf(t_stat, df)\n",
    "\n",
    "p_value_t(z, 25)"
   ]
  },
  {
   "cell_type": "code",
   "execution_count": 26,
   "metadata": {},
   "outputs": [
    {
     "data": {
      "text/plain": [
       "0.06528795288911193"
      ]
     },
     "execution_count": 26,
     "metadata": {},
     "output_type": "execute_result"
    }
   ],
   "source": [
    "#шаг 10\n",
    "p_value_t(-2, 15)"
   ]
  },
  {
   "cell_type": "code",
   "execution_count": null,
   "metadata": {},
   "outputs": [],
   "source": []
  }
 ],
 "metadata": {
  "kernelspec": {
   "display_name": "Python 3",
   "language": "python",
   "name": "python3"
  },
  "language_info": {
   "codemirror_mode": {
    "name": "ipython",
    "version": 3
   },
   "file_extension": ".py",
   "mimetype": "text/x-python",
   "name": "python",
   "nbconvert_exporter": "python",
   "pygments_lexer": "ipython3",
   "version": "3.7.1"
  }
 },
 "nbformat": 4,
 "nbformat_minor": 2
}
