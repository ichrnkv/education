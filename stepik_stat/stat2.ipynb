{
 "cells": [
  {
   "cell_type": "markdown",
   "metadata": {},
   "source": [
    "## Основы статистики\n",
    "https://stepik.org/course/76/syllabus\n",
    "### 2. Сравнение средних\n",
    "### 2.1 T-распределение"
   ]
  },
  {
   "cell_type": "code",
   "execution_count": 9,
   "metadata": {},
   "outputs": [],
   "source": [
    "from scipy import stats\n",
    "import numpy as np\n",
    "\n",
    "def get_se(sd, N):\n",
    "    '''Стандартная ошибка'''\n",
    "    return sd/np.sqrt(N)\n",
    "\n",
    "def z_stat(X, M, sd, N):\n",
    "    '''z-значение'''\n",
    "    se = get_se(sd, N)\n",
    "    return (X-M)/se\n",
    "\n",
    "def p_value_norm(z_stat, alternative = 'two-sided'):\n",
    "    '''p_value для нормального распределения'''\n",
    "    if alternative == 'two-sided':\n",
    "        return 2 * (1 - stats.norm.cdf(np.abs(z_stat)))\n",
    "    \n",
    "    if alternative == 'less':\n",
    "        return stats.norm.cdf(z_stat)\n",
    "\n",
    "    if alternative == 'greater':\n",
    "        return 1 - stats.norm.cdf(z_stat)"
   ]
  },
  {
   "cell_type": "code",
   "execution_count": 10,
   "metadata": {},
   "outputs": [
    {
     "data": {
      "text/plain": [
       "0.04550026389635842"
      ]
     },
     "execution_count": 10,
     "metadata": {},
     "output_type": "execute_result"
    }
   ],
   "source": [
    "#шаги 6-9\n",
    "\n",
    "z = z_stat(10.8, 10, 2, 25)\n",
    "p_value_norm(2, 'two-sided')"
   ]
  },
  {
   "cell_type": "code",
   "execution_count": 11,
   "metadata": {},
   "outputs": [
    {
     "data": {
      "text/plain": [
       "0.0569398499365914"
      ]
     },
     "execution_count": 11,
     "metadata": {},
     "output_type": "execute_result"
    }
   ],
   "source": [
    "#шаги 6-9\n",
    "#используем t-распределение\n",
    "\n",
    "def p_value_t(t_stat, N, alternative = 'two-sided'):\n",
    "    df = N-1 #кол-во степеней свободы\n",
    "    if alternative == 'two-sided':\n",
    "        return 2*(1-stats.t.cdf(np.abs(t_stat),df))\n",
    "    if alternative == 'less':\n",
    "        return stats.t.cdf(t_stat, df)\n",
    "    if alternative == 'greater':\n",
    "        return 1 - stats.t.cdf(t_stat, df)\n",
    "\n",
    "p_value_t(z, 25)"
   ]
  },
  {
   "cell_type": "code",
   "execution_count": 12,
   "metadata": {},
   "outputs": [
    {
     "data": {
      "text/plain": [
       "0.06528795288911193"
      ]
     },
     "execution_count": 12,
     "metadata": {},
     "output_type": "execute_result"
    }
   ],
   "source": [
    "#шаг 10\n",
    "p_value_t(-2, 15)"
   ]
  },
  {
   "cell_type": "markdown",
   "metadata": {},
   "source": [
    "### 2.2 Сравнение двух средних; t-критерий Стьюдента"
   ]
  },
  {
   "cell_type": "code",
   "execution_count": 18,
   "metadata": {},
   "outputs": [],
   "source": [
    "#парный t-тест (t-критерий Стьюдента)\n",
    "\n",
    "def t_stat(X1, X2, sd1, sd2, N1, N2):\n",
    "    se = np.sqrt(sd1**2/N1+sd2**2/N2)\n",
    "    return (X1-X2)/se\n",
    "\n",
    "def p_value_t_pair(t_stat, N1, N2, alternative = 'two-sided'):\n",
    "    df = N1+N2-2 #кол-во степеней свободы\n",
    "    if alternative == 'two-sided':\n",
    "        return 2*(1-stats.t.cdf(np.abs(t_stat),df))\n",
    "    if alternative == 'less':\n",
    "        return stats.t.cdf(t_stat, df)\n",
    "    if alternative == 'greater':\n",
    "        return 1 - stats.t.cdf(t_stat, df)"
   ]
  },
  {
   "cell_type": "code",
   "execution_count": 19,
   "metadata": {},
   "outputs": [
    {
     "data": {
      "text/plain": [
       "3.441691376337985e-14"
      ]
     },
     "execution_count": 19,
     "metadata": {},
     "output_type": "execute_result"
    }
   ],
   "source": [
    "#шаг 12\n",
    "\n",
    "t = t_stat(45,34,9,10,100,100)\n",
    "p_value_t_pair(t, 100, 100)"
   ]
  },
  {
   "cell_type": "markdown",
   "metadata": {},
   "source": [
    "### 2.3  Проверка распределения на нормальность, QQ-Plot"
   ]
  },
  {
   "cell_type": "code",
   "execution_count": 57,
   "metadata": {},
   "outputs": [
    {
     "data": {
      "image/png": "[encoded data removed]",
      "text/plain": [
       "<Figure size 432x288 with 1 Axes>"
      ]
     },
     "metadata": {
      "needs_background": "light"
     },
     "output_type": "display_data"
    }
   ],
   "source": [
    "import math\n",
    "from matplotlib import pyplot as plt\n",
    "import random\n",
    "import scipy.stats as stats\n",
    "\n",
    "\n",
    "data = stats.norm.rvs(10.0,5,size=1000)\n",
    "mu, std = stats.norm.fit(data)\n",
    "\n",
    "plt.hist(data, bins = 100, alpha = 0.5, density = True);\n",
    "\n",
    "xmin, xmax = plt.xlim()\n",
    "x = np.linspace(xmin, xmax, 100)\n",
    "p = stats.norm.pdf(x, mu, std)\n",
    "plt.plot(x, p, 'k', linewidth=2)\n",
    "title = \"Fit results: mu = %.2f,  std = %.2f\" % (mu, std)\n",
    "plt.title(title)\n",
    "\n",
    "plt.show()"
   ]
  },
  {
   "cell_type": "code",
   "execution_count": 59,
   "metadata": {},
   "outputs": [
    {
     "name": "stdout",
     "output_type": "stream",
     "text": [
      "0.0017218433786183596\n"
     ]
    }
   ],
   "source": [
    "p_value = stats.shapiro(x)[1]\n",
    "print(p_value)"
   ]
  }
 ],
 "metadata": {
  "kernelspec": {
   "display_name": "Python 3",
   "language": "python",
   "name": "python3"
  },
  "language_info": {
   "codemirror_mode": {
    "name": "ipython",
    "version": 3
   },
   "file_extension": ".py",
   "mimetype": "text/x-python",
   "name": "python",
   "nbconvert_exporter": "python",
   "pygments_lexer": "ipython3",
   "version": "3.7.1"
  }
 },
 "nbformat": 4,
 "nbformat_minor": 2
}

