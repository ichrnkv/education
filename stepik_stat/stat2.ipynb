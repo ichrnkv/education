{
 "cells": [
  {
   "cell_type": "markdown",
   "metadata": {},
   "source": [
    "## Основы статистики\n",
    "https://stepik.org/course/76/syllabus\n",
    "### 2. Сравнение средних\n",
    "### 2.1 T-распределение"
   ]
  },
  {
   "cell_type": "code",
   "execution_count": 9,
   "metadata": {},
   "outputs": [],
   "source": [
    "from scipy import stats\n",
    "import numpy as np\n",
    "\n",
    "def get_se(sd, N):\n",
    "    '''Стандартная ошибка'''\n",
    "    return sd/np.sqrt(N)\n",
    "\n",
    "def z_stat(X, M, sd, N):\n",
    "    '''z-значение'''\n",
    "    se = get_se(sd, N)\n",
    "    return (X-M)/se\n",
    "\n",
    "def p_value_norm(z_stat, alternative = 'two-sided'):\n",
    "    '''p_value для нормального распределения'''\n",
    "    if alternative == 'two-sided':\n",
    "        return 2 * (1 - stats.norm.cdf(np.abs(z_stat)))\n",
    "    \n",
    "    if alternative == 'less':\n",
    "        return stats.norm.cdf(z_stat)\n",
    "\n",
    "    if alternative == 'greater':\n",
    "        return 1 - stats.norm.cdf(z_stat)"
   ]
  },
  {
   "cell_type": "code",
   "execution_count": 10,
   "metadata": {},
   "outputs": [
    {
     "data": {
      "text/plain": [
       "0.04550026389635842"
      ]
     },
     "execution_count": 10,
     "metadata": {},
     "output_type": "execute_result"
    }
   ],
   "source": [
    "#шаги 6-9\n",
    "\n",
    "z = z_stat(10.8, 10, 2, 25)\n",
    "p_value_norm(2, 'two-sided')"
   ]
  },
  {
   "cell_type": "code",
   "execution_count": 11,
   "metadata": {},
   "outputs": [
    {
     "data": {
      "text/plain": [
       "0.0569398499365914"
      ]
     },
     "execution_count": 11,
     "metadata": {},
     "output_type": "execute_result"
    }
   ],
   "source": [
    "#шаги 6-9\n",
    "#используем t-распределение\n",
    "\n",
    "def p_value_t(t_stat, N, alternative = 'two-sided'):\n",
    "    df = N-1 #кол-во степеней свободы\n",
    "    if alternative == 'two-sided':\n",
    "        return 2*(1-stats.t.cdf(np.abs(t_stat),df))\n",
    "    if alternative == 'less':\n",
    "        return stats.t.cdf(t_stat, df)\n",
    "    if alternative == 'greater':\n",
    "        return 1 - stats.t.cdf(t_stat, df)\n",
    "\n",
    "p_value_t(z, 25)"
   ]
  },
  {
   "cell_type": "code",
   "execution_count": 12,
   "metadata": {},
   "outputs": [
    {
     "data": {
      "text/plain": [
       "0.06528795288911193"
      ]
     },
     "execution_count": 12,
     "metadata": {},
     "output_type": "execute_result"
    }
   ],
   "source": [
    "#шаг 10\n",
    "p_value_t(-2, 15)"
   ]
  },
  {
   "cell_type": "markdown",
   "metadata": {},
   "source": [
    "### 2.2 Сравнение двух средних; t-критерий Стьюдента"
   ]
  },
  {
   "cell_type": "code",
   "execution_count": 13,
   "metadata": {},
   "outputs": [
    {
     "data": {
      "text/plain": [
       "8.176235608718828"
      ]
     },
     "execution_count": 13,
     "metadata": {},
     "output_type": "execute_result"
    }
   ],
   "source": [
    "#парный t-тест (t-критерий Стьюдента)\n",
    "\n",
    "def t_stat(X1, X2, sd1, sd2, N1, N2):\n",
    "    se = np.sqrt(sd1**2/N1+sd2**2/N2)\n",
    "    return (X1-X2)/se\n",
    "\n",
    "def p_value_t(t_stat, N, alternative = 'two-sided'):\n",
    "    df = N-1 #кол-во степеней свободы\n",
    "    if alternative == 'two-sided':\n",
    "        return 2*(1-stats.t.cdf(np.abs(t_stat),df))\n",
    "    if alternative == 'less':\n",
    "        return stats.t.cdf(t_stat, df)\n",
    "    if alternative == 'greater':\n",
    "        return 1 - stats.t.cdf(t_stat, df)\n",
    "\n",
    "t_stat(45,34,9,10,100,100)"
   ]
  },
  {
   "cell_type": "code",
   "execution_count": 17,
   "metadata": {},
   "outputs": [
    {
     "data": {
      "text/plain": [
       "3.375077994860476e-14"
      ]
     },
     "execution_count": 17,
     "metadata": {},
     "output_type": "execute_result"
    }
   ],
   "source": [
    "#шаг 12\n",
    "\n",
    "def p_value_t_pair(t_stat, N1, N2, alternative = 'two-sided'):\n",
    "    df = N1+N2-2 #кол-во степеней свободы\n",
    "    if alternative == 'two-sided':\n",
    "        return 2*(1-stats.t.cdf(np.abs(t_stat),df))\n",
    "    if alternative == 'less':\n",
    "        return stats.t.cdf(t_stat, df)\n",
    "    if alternative == 'greater':\n",
    "        return 1 - stats.t.cdf(t_stat, df)"
   ]
  },
  {
   "cell_type": "code",
   "execution_count": null,
   "metadata": {},
   "outputs": [],
   "source": []
  }
 ],
 "metadata": {
  "kernelspec": {
   "display_name": "Python 3",
   "language": "python",
   "name": "python3"
  },
  "language_info": {
   "codemirror_mode": {
    "name": "ipython",
    "version": 3
   },
   "file_extension": ".py",
   "mimetype": "text/x-python",
   "name": "python",
   "nbconvert_exporter": "python",
   "pygments_lexer": "ipython3",
   "version": "3.7.1"
  }
 },
 "nbformat": 4,
 "nbformat_minor": 2
}

